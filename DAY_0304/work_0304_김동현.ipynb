{
 "cells": [
  {
   "cell_type": "code",
   "execution_count": 3,
   "metadata": {},
   "outputs": [],
   "source": [
    "from itertools import combinations\n",
    "from sklearn.model_selection import train_test_split\n",
    "from sklearn.linear_model import LogisticRegression, SGDClassifier\n",
    "from sklearn.neighbors import KNeighborsClassifier\n",
    "from sklearn.preprocessing import StandardScaler, MinMaxScaler, RobustScaler, OneHotEncoder, LabelEncoder, OrdinalEncoder\n",
    "from sklearn.compose import ColumnTransformer, make_column_transformer\n",
    "from sklearn.preprocessing import PolynomialFeatures\n",
    "from sklearn.metrics import accuracy_score, precision_score, recall_score, f1_score\n",
    "from sklearn.metrics import confusion_matrix, classification_report\n",
    "from sklearn.metrics import precision_recall_curve\n",
    "from scipy import stats\n",
    "\n",
    "import cv2\n",
    "import math\n",
    "import pandas as pd\n",
    "import numpy as np\n",
    "import matplotlib.pyplot as plt\n",
    "import matplotlib as mpl\n",
    "import matplotlib.font_manager as fm"
   ]
  },
  {
   "cell_type": "code",
   "execution_count": 4,
   "metadata": {},
   "outputs": [],
   "source": [
    "# 폰트 파일의 경로 지정\n",
    "font_path = r'C:\\Windows\\Fonts\\gulim.ttc'"
   ]
  },
  {
   "cell_type": "code",
   "execution_count": 5,
   "metadata": {},
   "outputs": [],
   "source": [
    "# matplotlib 패키지에 한글 폰트 설정\n",
    "myFont = fm.FontProperties(fname = font_path).get_name()\n",
    "mpl.rc('font', family = myFont)"
   ]
  },
  {
   "cell_type": "code",
   "execution_count": 6,
   "metadata": {},
   "outputs": [
    {
     "name": "stderr",
     "output_type": "stream",
     "text": [
      "c:\\Users\\user\\.conda\\envs\\EXAM_MML\\lib\\site-packages\\sklearn\\datasets\\_openml.py:1002: FutureWarning: The default value of `parser` will change from `'liac-arff'` to `'auto'` in 1.4. You can set `parser='auto'` to silence this warning. Therefore, an `ImportError` will be raised from 1.4 if the dataset is dense and pandas is not installed. Note that the pandas parser may return different data types. See the Notes Section in fetch_openml's API doc for details.\n",
      "  warn(\n"
     ]
    }
   ],
   "source": [
    "from sklearn.datasets import fetch_openml\n",
    "\n",
    "mnist = fetch_openml('mnist_784', as_frame = False)"
   ]
  },
  {
   "cell_type": "code",
   "execution_count": 7,
   "metadata": {},
   "outputs": [
    {
     "data": {
      "text/plain": [
       "(array([[0., 0., 0., ..., 0., 0., 0.],\n",
       "        [0., 0., 0., ..., 0., 0., 0.],\n",
       "        [0., 0., 0., ..., 0., 0., 0.],\n",
       "        ...,\n",
       "        [0., 0., 0., ..., 0., 0., 0.],\n",
       "        [0., 0., 0., ..., 0., 0., 0.],\n",
       "        [0., 0., 0., ..., 0., 0., 0.]]),\n",
       " array(['5', '0', '4', ..., '4', '5', '6'], dtype=object))"
      ]
     },
     "execution_count": 7,
     "metadata": {},
     "output_type": "execute_result"
    }
   ],
   "source": [
    "X, y = mnist.data, mnist.target\n",
    "X, y"
   ]
  },
  {
   "cell_type": "code",
   "execution_count": 8,
   "metadata": {},
   "outputs": [
    {
     "data": {
      "text/plain": [
       "((70000, 784), (70000,))"
      ]
     },
     "execution_count": 8,
     "metadata": {},
     "output_type": "execute_result"
    }
   ],
   "source": [
    "X.shape, y.shape"
   ]
  },
  {
   "cell_type": "code",
   "execution_count": 13,
   "metadata": {},
   "outputs": [
    {
     "data": {
      "image/png": "[encoded data removed]",
      "text/plain": [
       "<Figure size 640x480 with 1 Axes>"
      ]
     },
     "metadata": {},
     "output_type": "display_data"
    }
   ],
   "source": [
    "import matplotlib.pyplot as plt\n",
    "\n",
    "def plot_digit(image_data):\n",
    "    image = image_data.reshape(28, 28)\n",
    "    plt.imshow(image, cmap = 'binary')\n",
    "    plt.axis('off')\n",
    "\n",
    "some_digit = X[0]\n",
    "plot_digit(some_digit)\n",
    "plt.show()"
   ]
  },
  {
   "cell_type": "code",
   "execution_count": 9,
   "metadata": {},
   "outputs": [
    {
     "data": {
      "text/plain": [
       "'5'"
      ]
     },
     "execution_count": 9,
     "metadata": {},
     "output_type": "execute_result"
    }
   ],
   "source": [
    "y[0]"
   ]
  },
  {
   "cell_type": "code",
   "execution_count": 10,
   "metadata": {},
   "outputs": [
    {
     "data": {
      "image/png": "[encoded data removed]",
      "text/plain": [
       "<Figure size 640x480 with 1 Axes>"
      ]
     },
     "metadata": {},
     "output_type": "display_data"
    }
   ],
   "source": [
    "plt.hist(np.sort(y))\n",
    "plt.show()"
   ]
  },
  {
   "cell_type": "code",
   "execution_count": 43,
   "metadata": {},
   "outputs": [],
   "source": [
    "X_train, X_test, y_train, y_test = X[:60000], X[60000:], y[:60000], y[60000:]"
   ]
  },
  {
   "cell_type": "code",
   "execution_count": 80,
   "metadata": {},
   "outputs": [
    {
     "data": {
      "image/png": "[encoded data removed]",
      "text/plain": [
       "<Figure size 640x480 with 1 Axes>"
      ]
     },
     "metadata": {},
     "output_type": "display_data"
    }
   ],
   "source": [
    "plt.hist(np.sort(y_test))\n",
    "plt.show()"
   ]
  },
  {
   "cell_type": "code",
   "execution_count": 44,
   "metadata": {},
   "outputs": [],
   "source": [
    "y_train_5 = (y_train == '5')  # 5는 True고, 다른 숫자는 모두 False\n",
    "y_test_5 = (y_test == '5') "
   ]
  },
  {
   "cell_type": "markdown",
   "metadata": {},
   "source": [
    "## SGDClassifier <hr>"
   ]
  },
  {
   "cell_type": "markdown",
   "metadata": {},
   "source": [
    "#### fit 사용"
   ]
  },
  {
   "cell_type": "code",
   "execution_count": 45,
   "metadata": {},
   "outputs": [
    {
     "data": {
      "text/html": [
       "<style>#sk-container-id-4 {color: black;}#sk-container-id-4 pre{padding: 0;}#sk-container-id-4 div.sk-toggleable {background-color: white;}#sk-container-id-4 label.sk-toggleable__label {cursor: pointer;display: block;width: 100%;margin-bottom: 0;padding: 0.3em;box-sizing: border-box;text-align: center;}#sk-container-id-4 label.sk-toggleable__label-arrow:before {content: \"▸\";float: left;margin-right: 0.25em;color: #696969;}#sk-container-id-4 label.sk-toggleable__label-arrow:hover:before {color: black;}#sk-container-id-4 div.sk-estimator:hover label.sk-toggleable__label-arrow:before {color: black;}#sk-container-id-4 div.sk-toggleable__content {max-height: 0;max-width: 0;overflow: hidden;text-align: left;background-color: #f0f8ff;}#sk-container-id-4 div.sk-toggleable__content pre {margin: 0.2em;color: black;border-radius: 0.25em;background-color: #f0f8ff;}#sk-container-id-4 input.sk-toggleable__control:checked~div.sk-toggleable__content {max-height: 200px;max-width: 100%;overflow: auto;}#sk-container-id-4 input.sk-toggleable__control:checked~label.sk-toggleable__label-arrow:before {content: \"▾\";}#sk-container-id-4 div.sk-estimator input.sk-toggleable__control:checked~label.sk-toggleable__label {background-color: #d4ebff;}#sk-container-id-4 div.sk-label input.sk-toggleable__control:checked~label.sk-toggleable__label {background-color: #d4ebff;}#sk-container-id-4 input.sk-hidden--visually {border: 0;clip: rect(1px 1px 1px 1px);clip: rect(1px, 1px, 1px, 1px);height: 1px;margin: -1px;overflow: hidden;padding: 0;position: absolute;width: 1px;}#sk-container-id-4 div.sk-estimator {font-family: monospace;background-color: #f0f8ff;border: 1px dotted black;border-radius: 0.25em;box-sizing: border-box;margin-bottom: 0.5em;}#sk-container-id-4 div.sk-estimator:hover {background-color: #d4ebff;}#sk-container-id-4 div.sk-parallel-item::after {content: \"\";width: 100%;border-bottom: 1px solid gray;flex-grow: 1;}#sk-container-id-4 div.sk-label:hover label.sk-toggleable__label {background-color: #d4ebff;}#sk-container-id-4 div.sk-serial::before {content: \"\";position: absolute;border-left: 1px solid gray;box-sizing: border-box;top: 0;bottom: 0;left: 50%;z-index: 0;}#sk-container-id-4 div.sk-serial {display: flex;flex-direction: column;align-items: center;background-color: white;padding-right: 0.2em;padding-left: 0.2em;position: relative;}#sk-container-id-4 div.sk-item {position: relative;z-index: 1;}#sk-container-id-4 div.sk-parallel {display: flex;align-items: stretch;justify-content: center;background-color: white;position: relative;}#sk-container-id-4 div.sk-item::before, #sk-container-id-4 div.sk-parallel-item::before {content: \"\";position: absolute;border-left: 1px solid gray;box-sizing: border-box;top: 0;bottom: 0;left: 50%;z-index: -1;}#sk-container-id-4 div.sk-parallel-item {display: flex;flex-direction: column;z-index: 1;position: relative;background-color: white;}#sk-container-id-4 div.sk-parallel-item:first-child::after {align-self: flex-end;width: 50%;}#sk-container-id-4 div.sk-parallel-item:last-child::after {align-self: flex-start;width: 50%;}#sk-container-id-4 div.sk-parallel-item:only-child::after {width: 0;}#sk-container-id-4 div.sk-dashed-wrapped {border: 1px dashed gray;margin: 0 0.4em 0.5em 0.4em;box-sizing: border-box;padding-bottom: 0.4em;background-color: white;}#sk-container-id-4 div.sk-label label {font-family: monospace;font-weight: bold;display: inline-block;line-height: 1.2em;}#sk-container-id-4 div.sk-label-container {text-align: center;}#sk-container-id-4 div.sk-container {/* jupyter's `normalize.less` sets `[hidden] { display: none; }` but bootstrap.min.css set `[hidden] { display: none !important; }` so we also need the `!important` here to be able to override the default hidden behavior on the sphinx rendered scikit-learn.org. See: https://github.com/scikit-learn/scikit-learn/issues/21755 */display: inline-block !important;position: relative;}#sk-container-id-4 div.sk-text-repr-fallback {display: none;}</style><div id=\"sk-container-id-4\" class=\"sk-top-container\"><div class=\"sk-text-repr-fallback\"><pre>SGDClassifier(random_state=42)</pre><b>In a Jupyter environment, please rerun this cell to show the HTML representation or trust the notebook. <br />On GitHub, the HTML representation is unable to render, please try loading this page with nbviewer.org.</b></div><div class=\"sk-container\" hidden><div class=\"sk-item\"><div class=\"sk-estimator sk-toggleable\"><input class=\"sk-toggleable__control sk-hidden--visually\" id=\"sk-estimator-id-4\" type=\"checkbox\" checked><label for=\"sk-estimator-id-4\" class=\"sk-toggleable__label sk-toggleable__label-arrow\">SGDClassifier</label><div class=\"sk-toggleable__content\"><pre>SGDClassifier(random_state=42)</pre></div></div></div></div></div>"
      ],
      "text/plain": [
       "SGDClassifier(random_state=42)"
      ]
     },
     "execution_count": 45,
     "metadata": {},
     "output_type": "execute_result"
    }
   ],
   "source": [
    "sgd_clf = SGDClassifier(random_state = 42)\n",
    "sgd_clf.fit(X_train, y_train_5)"
   ]
  },
  {
   "cell_type": "code",
   "execution_count": 46,
   "metadata": {},
   "outputs": [
    {
     "data": {
      "text/plain": [
       "array([ True])"
      ]
     },
     "execution_count": 46,
     "metadata": {},
     "output_type": "execute_result"
    }
   ],
   "source": [
    "sgd_clf.predict([some_digit])"
   ]
  },
  {
   "cell_type": "code",
   "execution_count": 47,
   "metadata": {},
   "outputs": [
    {
     "name": "stdout",
     "output_type": "stream",
     "text": [
      "훈련 스코어 => 0.9522666666666667\n",
      "\n",
      " 테스트 스코어 => 0.9492\n"
     ]
    }
   ],
   "source": [
    "print(f'훈련 스코어 => {sgd_clf.score(X_train, y_train_5)}\\n\\n 테스트 스코어 => {sgd_clf.score(X_test, y_test_5)}')"
   ]
  },
  {
   "cell_type": "code",
   "execution_count": 48,
   "metadata": {},
   "outputs": [],
   "source": [
    "y_pre_5 = sgd_clf.predict(X_test)"
   ]
  },
  {
   "cell_type": "code",
   "execution_count": 49,
   "metadata": {},
   "outputs": [
    {
     "name": "stdout",
     "output_type": "stream",
     "text": [
      "분류 정확도 => 0.9492\n",
      "\n",
      "분류 정밀도 => 0.8800448430493274\n",
      "\n",
      "분류 재현율 => 0.6618887015177066\n",
      "\n",
      "분류 f1점수 => 0.75553416746872\n",
      "\n"
     ]
    }
   ],
   "source": [
    "print(f'분류 정확도 => {accuracy_score(y_pre_5, y_test_5)}\\n')\n",
    "print(f'분류 정밀도 => {precision_score(y_pre_5, y_test_5)}\\n')\n",
    "print(f'분류 재현율 => {recall_score(y_pre_5, y_test_5)}\\n')\n",
    "print(f'분류 f1점수 => {f1_score(y_pre_5, y_test_5)}\\n')"
   ]
  },
  {
   "cell_type": "code",
   "execution_count": 50,
   "metadata": {},
   "outputs": [
    {
     "name": "stdout",
     "output_type": "stream",
     "text": [
      "              precision    recall  f1-score   support\n",
      "\n",
      "       False       0.99      0.96      0.97      9108\n",
      "        True       0.66      0.88      0.76       892\n",
      "\n",
      "    accuracy                           0.95     10000\n",
      "   macro avg       0.82      0.92      0.86     10000\n",
      "weighted avg       0.96      0.95      0.95     10000\n",
      "\n"
     ]
    }
   ],
   "source": [
    "print(classification_report(y_test_5, y_pre_5))"
   ]
  },
  {
   "cell_type": "code",
   "execution_count": 57,
   "metadata": {},
   "outputs": [
    {
     "data": {
      "text/plain": [
       "array([False])"
      ]
     },
     "execution_count": 57,
     "metadata": {},
     "output_type": "execute_result"
    }
   ],
   "source": [
    "img = cv2.imread('../DATA/img_five.png')\n",
    "img_gray = cv2.cvtColor(img, cv2.COLOR_BGR2GRAY)\n",
    "img_gray = np.invert(img_gray)\n",
    "sgd_clf.predict(np.array(img_gray).reshape(1, -1))"
   ]
  },
  {
   "cell_type": "code",
   "execution_count": 54,
   "metadata": {},
   "outputs": [
    {
     "data": {
      "image/png": "[encoded data removed]",
      "text/plain": [
       "<Figure size 640x480 with 1 Axes>"
      ]
     },
     "metadata": {},
     "output_type": "display_data"
    }
   ],
   "source": [
    "plot_digit(img_gray)\n",
    "plt.show()"
   ]
  },
  {
   "cell_type": "markdown",
   "metadata": {},
   "source": [
    "#### partial_fit 사용"
   ]
  },
  {
   "cell_type": "code",
   "execution_count": 59,
   "metadata": {},
   "outputs": [
    {
     "name": "stdout",
     "output_type": "stream",
     "text": [
      "[기본 SGD] 학습 점수 : 0.9483333333333334, 테스트 점수 : 0.89\n",
      "\n",
      "[기본 SGD] 학습 점수 : 0.9533333333333334, 테스트 점수 : 0.94\n",
      "\n",
      "[기본 SGD] 학습 점수 : 0.9533333333333334, 테스트 점수 : 0.92\n",
      "\n",
      "[기본 SGD] 학습 점수 : 0.9833333333333333, 테스트 점수 : 0.91\n",
      "\n",
      "[기본 SGD] 학습 점수 : 0.9333333333333333, 테스트 점수 : 0.88\n",
      "\n",
      "[기본 SGD] 학습 점수 : 0.9883333333333333, 테스트 점수 : 0.99\n",
      "\n",
      "[기본 SGD] 학습 점수 : 0.9883333333333333, 테스트 점수 : 0.94\n",
      "\n",
      "[기본 SGD] 학습 점수 : 0.985, 테스트 점수 : 0.97\n",
      "\n",
      "[기본 SGD] 학습 점수 : 0.97, 테스트 점수 : 0.98\n",
      "\n",
      "[기본 SGD] 학습 점수 : 0.98, 테스트 점수 : 0.96\n",
      "\n",
      "[기본 SGD] 학습 점수 : 0.9766666666666667, 테스트 점수 : 0.94\n",
      "\n",
      "[기본 SGD] 학습 점수 : 0.9666666666666667, 테스트 점수 : 0.96\n",
      "\n",
      "[기본 SGD] 학습 점수 : 0.965, 테스트 점수 : 0.9\n",
      "\n",
      "[기본 SGD] 학습 점수 : 0.9733333333333334, 테스트 점수 : 0.95\n",
      "\n",
      "[기본 SGD] 학습 점수 : 0.9733333333333334, 테스트 점수 : 0.91\n",
      "\n",
      "[기본 SGD] 학습 점수 : 0.9716666666666667, 테스트 점수 : 0.95\n",
      "\n",
      "[기본 SGD] 학습 점수 : 0.9816666666666667, 테스트 점수 : 0.95\n",
      "\n",
      "[기본 SGD] 학습 점수 : 0.9383333333333334, 테스트 점수 : 0.93\n",
      "\n",
      "[기본 SGD] 학습 점수 : 0.975, 테스트 점수 : 0.92\n",
      "\n",
      "[기본 SGD] 학습 점수 : 0.96, 테스트 점수 : 0.91\n",
      "\n",
      "[기본 SGD] 학습 점수 : 0.9733333333333334, 테스트 점수 : 0.94\n",
      "\n",
      "[기본 SGD] 학습 점수 : 0.955, 테스트 점수 : 0.93\n",
      "\n",
      "[기본 SGD] 학습 점수 : 0.9766666666666667, 테스트 점수 : 0.94\n",
      "\n",
      "[기본 SGD] 학습 점수 : 0.9633333333333334, 테스트 점수 : 0.93\n",
      "\n",
      "[기본 SGD] 학습 점수 : 0.9783333333333334, 테스트 점수 : 0.96\n",
      "\n",
      "[기본 SGD] 학습 점수 : 0.9533333333333334, 테스트 점수 : 0.9\n",
      "\n",
      "[기본 SGD] 학습 점수 : 0.9616666666666667, 테스트 점수 : 0.89\n",
      "\n",
      "[기본 SGD] 학습 점수 : 0.9733333333333334, 테스트 점수 : 0.98\n",
      "\n",
      "[기본 SGD] 학습 점수 : 0.9766666666666667, 테스트 점수 : 0.96\n",
      "\n",
      "[기본 SGD] 학습 점수 : 0.9716666666666667, 테스트 점수 : 0.97\n",
      "\n",
      "[기본 SGD] 학습 점수 : 0.95, 테스트 점수 : 0.98\n",
      "\n",
      "[기본 SGD] 학습 점수 : 0.985, 테스트 점수 : 0.91\n",
      "\n",
      "[기본 SGD] 학습 점수 : 0.98, 테스트 점수 : 0.98\n",
      "\n",
      "[기본 SGD] 학습 점수 : 0.98, 테스트 점수 : 0.98\n",
      "\n",
      "[기본 SGD] 학습 점수 : 0.94, 테스트 점수 : 0.94\n",
      "\n",
      "[기본 SGD] 학습 점수 : 0.9816666666666667, 테스트 점수 : 0.92\n",
      "\n",
      "[기본 SGD] 학습 점수 : 0.9733333333333334, 테스트 점수 : 0.99\n",
      "\n",
      "[기본 SGD] 학습 점수 : 0.9766666666666667, 테스트 점수 : 0.95\n",
      "\n",
      "[기본 SGD] 학습 점수 : 0.9833333333333333, 테스트 점수 : 0.96\n",
      "\n",
      "[기본 SGD] 학습 점수 : 0.9366666666666666, 테스트 점수 : 0.92\n",
      "\n",
      "[기본 SGD] 학습 점수 : 0.9733333333333334, 테스트 점수 : 0.94\n",
      "\n",
      "[기본 SGD] 학습 점수 : 0.975, 테스트 점수 : 0.95\n",
      "\n",
      "[기본 SGD] 학습 점수 : 0.97, 테스트 점수 : 0.93\n",
      "\n",
      "[기본 SGD] 학습 점수 : 0.965, 테스트 점수 : 0.9\n",
      "\n",
      "[기본 SGD] 학습 점수 : 0.985, 테스트 점수 : 0.99\n",
      "\n",
      "[기본 SGD] 학습 점수 : 0.9716666666666667, 테스트 점수 : 0.97\n",
      "\n",
      "[기본 SGD] 학습 점수 : 0.9833333333333333, 테스트 점수 : 0.99\n",
      "\n",
      "[기본 SGD] 학습 점수 : 0.94, 테스트 점수 : 0.98\n",
      "\n",
      "[기본 SGD] 학습 점수 : 0.9583333333333334, 테스트 점수 : 0.97\n",
      "\n",
      "[기본 SGD] 학습 점수 : 0.9733333333333334, 테스트 점수 : 0.96\n",
      "\n",
      "[기본 SGD] 학습 점수 : 0.9766666666666667, 테스트 점수 : 0.97\n",
      "\n",
      "[기본 SGD] 학습 점수 : 0.965, 테스트 점수 : 0.95\n",
      "\n",
      "[기본 SGD] 학습 점수 : 0.9533333333333334, 테스트 점수 : 0.96\n",
      "\n",
      "[기본 SGD] 학습 점수 : 0.965, 테스트 점수 : 0.94\n",
      "\n",
      "[기본 SGD] 학습 점수 : 0.9716666666666667, 테스트 점수 : 0.93\n",
      "\n",
      "[기본 SGD] 학습 점수 : 0.9683333333333334, 테스트 점수 : 0.98\n",
      "\n",
      "[기본 SGD] 학습 점수 : 0.99, 테스트 점수 : 0.97\n",
      "\n",
      "[기본 SGD] 학습 점수 : 0.9766666666666667, 테스트 점수 : 0.95\n",
      "\n",
      "[기본 SGD] 학습 점수 : 0.9683333333333334, 테스트 점수 : 0.97\n",
      "\n",
      "[기본 SGD] 학습 점수 : 0.9133333333333333, 테스트 점수 : 0.87\n",
      "\n",
      "[기본 SGD] 학습 점수 : 0.975, 테스트 점수 : 0.97\n",
      "\n",
      "[기본 SGD] 학습 점수 : 0.9683333333333334, 테스트 점수 : 0.98\n",
      "\n",
      "[기본 SGD] 학습 점수 : 0.94, 테스트 점수 : 0.97\n",
      "\n",
      "[기본 SGD] 학습 점수 : 0.9683333333333334, 테스트 점수 : 0.97\n",
      "\n",
      "[기본 SGD] 학습 점수 : 0.9583333333333334, 테스트 점수 : 0.99\n",
      "\n",
      "[기본 SGD] 학습 점수 : 0.9766666666666667, 테스트 점수 : 0.96\n",
      "\n",
      "[기본 SGD] 학습 점수 : 0.98, 테스트 점수 : 0.97\n",
      "\n",
      "[기본 SGD] 학습 점수 : 0.98, 테스트 점수 : 0.97\n",
      "\n",
      "[기본 SGD] 학습 점수 : 0.8883333333333333, 테스트 점수 : 0.92\n",
      "\n",
      "[기본 SGD] 학습 점수 : 0.97, 테스트 점수 : 0.96\n",
      "\n",
      "[기본 SGD] 학습 점수 : 0.9666666666666667, 테스트 점수 : 0.96\n",
      "\n",
      "[기본 SGD] 학습 점수 : 0.9766666666666667, 테스트 점수 : 0.99\n",
      "\n",
      "[기본 SGD] 학습 점수 : 0.9633333333333334, 테스트 점수 : 0.96\n",
      "\n",
      "[기본 SGD] 학습 점수 : 0.9733333333333334, 테스트 점수 : 0.94\n",
      "\n",
      "[기본 SGD] 학습 점수 : 0.9633333333333334, 테스트 점수 : 0.92\n",
      "\n",
      "[기본 SGD] 학습 점수 : 0.9533333333333334, 테스트 점수 : 0.92\n",
      "\n",
      "[기본 SGD] 학습 점수 : 0.9566666666666667, 테스트 점수 : 0.95\n",
      "\n",
      "[기본 SGD] 학습 점수 : 0.9816666666666667, 테스트 점수 : 0.97\n",
      "\n",
      "[기본 SGD] 학습 점수 : 0.955, 테스트 점수 : 0.92\n",
      "\n",
      "[기본 SGD] 학습 점수 : 0.9783333333333334, 테스트 점수 : 0.99\n",
      "\n",
      "[기본 SGD] 학습 점수 : 0.9816666666666667, 테스트 점수 : 1.0\n",
      "\n",
      "[기본 SGD] 학습 점수 : 0.985, 테스트 점수 : 0.95\n",
      "\n",
      "[기본 SGD] 학습 점수 : 0.9266666666666666, 테스트 점수 : 0.99\n",
      "\n",
      "[기본 SGD] 학습 점수 : 0.97, 테스트 점수 : 0.96\n",
      "\n",
      "[기본 SGD] 학습 점수 : 0.9866666666666667, 테스트 점수 : 0.98\n",
      "\n",
      "[기본 SGD] 학습 점수 : 0.975, 테스트 점수 : 1.0\n",
      "\n",
      "[기본 SGD] 학습 점수 : 0.96, 테스트 점수 : 1.0\n",
      "\n",
      "[기본 SGD] 학습 점수 : 0.99, 테스트 점수 : 0.99\n",
      "\n",
      "[기본 SGD] 학습 점수 : 0.9716666666666667, 테스트 점수 : 1.0\n",
      "\n",
      "[기본 SGD] 학습 점수 : 0.9633333333333334, 테스트 점수 : 0.99\n",
      "\n",
      "[기본 SGD] 학습 점수 : 0.9533333333333334, 테스트 점수 : 0.98\n",
      "\n",
      "[기본 SGD] 학습 점수 : 0.975, 테스트 점수 : 0.98\n",
      "\n",
      "[기본 SGD] 학습 점수 : 0.965, 테스트 점수 : 0.98\n",
      "\n",
      "[기본 SGD] 학습 점수 : 0.9633333333333334, 테스트 점수 : 0.98\n",
      "\n",
      "[기본 SGD] 학습 점수 : 0.9733333333333334, 테스트 점수 : 0.94\n",
      "\n",
      "[기본 SGD] 학습 점수 : 0.9733333333333334, 테스트 점수 : 1.0\n",
      "\n",
      "[기본 SGD] 학습 점수 : 0.965, 테스트 점수 : 0.9\n",
      "\n",
      "[기본 SGD] 학습 점수 : 0.9866666666666667, 테스트 점수 : 0.88\n",
      "\n",
      "[기본 SGD] 학습 점수 : 0.9816666666666667, 테스트 점수 : 0.99\n",
      "\n",
      "[기본 SGD] 학습 점수 : 0.95, 테스트 점수 : 0.96\n",
      "\n"
     ]
    }
   ],
   "source": [
    "sgd_clf = SGDClassifier(random_state = 42)\n",
    "train_score_list1, test_score_list1 = [], []\n",
    "for n in range(1, 101):\n",
    "    sgd_clf.partial_fit(X_train[600*(n-1) : 600*n], y_train_5[600*(n-1) : 600*n], np.unique(y_train_5))\n",
    "    train_score1 = sgd_clf.score(X_train[600*(n-1) : 600*n], y_train_5[600*(n-1) : 600*n])\n",
    "    test_score1 = sgd_clf.score(X_test[100*(n-1) : 100*n], y_test_5[100*(n-1) : 100*n])\n",
    "    print(f'[기본 SGD] 학습 점수 : {train_score1}, 테스트 점수 : {test_score1}\\n')\n",
    "    train_score_list1.append(train_score1)\n",
    "    test_score_list1.append(test_score1)"
   ]
  },
  {
   "cell_type": "code",
   "execution_count": 60,
   "metadata": {},
   "outputs": [
    {
     "data": {
      "image/png": "[encoded data removed]",
      "text/plain": [
       "<Figure size 1200x500 with 1 Axes>"
      ]
     },
     "metadata": {},
     "output_type": "display_data"
    }
   ],
   "source": [
    "# 시각화\n",
    "import matplotlib.pyplot as plt\n",
    "\n",
    "plt.figure(figsize = (12, 5))\n",
    "plt.plot(train_score_list1, 'b-', label = 'Train')\n",
    "plt.plot(test_score_list1, 'r-', label = 'Test')\n",
    "plt.legend()\n",
    "plt.show()"
   ]
  },
  {
   "cell_type": "code",
   "execution_count": 61,
   "metadata": {},
   "outputs": [
    {
     "name": "stdout",
     "output_type": "stream",
     "text": [
      "분류 정확도 => 0.958\n",
      "\n",
      "분류 정밀도 => 0.5683856502242153\n",
      "\n",
      "분류 재현율 => 0.9354243542435424\n",
      "\n",
      "분류 f1점수 => 0.7071129707112971\n",
      "\n"
     ]
    }
   ],
   "source": [
    "y_pre_5 = sgd_clf.predict(X_test)\n",
    "print(f'분류 정확도 => {accuracy_score(y_pre_5, y_test_5)}\\n')\n",
    "print(f'분류 정밀도 => {precision_score(y_pre_5, y_test_5)}\\n')\n",
    "print(f'분류 재현율 => {recall_score(y_pre_5, y_test_5)}\\n')\n",
    "print(f'분류 f1점수 => {f1_score(y_pre_5, y_test_5)}\\n')"
   ]
  },
  {
   "cell_type": "code",
   "execution_count": 62,
   "metadata": {},
   "outputs": [],
   "source": [
    "# y_scores = cross_val_predict(sgd_clf, X_train, y_train_5, cv = 3, method = 'decision_function')"
   ]
  },
  {
   "cell_type": "code",
   "execution_count": 63,
   "metadata": {},
   "outputs": [],
   "source": [
    "# precision, recalls, thresholds = precision_recall_curve(y_train_5, )"
   ]
  },
  {
   "cell_type": "code",
   "execution_count": 64,
   "metadata": {},
   "outputs": [
    {
     "data": {
      "text/plain": [
       "array([False])"
      ]
     },
     "execution_count": 64,
     "metadata": {},
     "output_type": "execute_result"
    }
   ],
   "source": [
    "img = cv2.imread('../DATA/img_five.png')\n",
    "img_gray = cv2.cvtColor(img, cv2.COLOR_BGR2GRAY)\n",
    "img_gray = np.invert(img_gray)\n",
    "sgd_clf.predict(np.array(img_gray).reshape(1, -1))"
   ]
  },
  {
   "cell_type": "markdown",
   "metadata": {},
   "source": [
    "## LogisticRegression <hr>"
   ]
  },
  {
   "cell_type": "markdown",
   "metadata": {},
   "source": [
    "#### fit 사용"
   ]
  },
  {
   "cell_type": "code",
   "execution_count": 94,
   "metadata": {},
   "outputs": [],
   "source": [
    "y_train_5 = np.where(y_train_5 == True, 1, 0)"
   ]
  },
  {
   "cell_type": "code",
   "execution_count": 95,
   "metadata": {},
   "outputs": [
    {
     "data": {
      "text/plain": [
       "array([0, 1])"
      ]
     },
     "execution_count": 95,
     "metadata": {},
     "output_type": "execute_result"
    }
   ],
   "source": [
    "np.unique(y_train_5)"
   ]
  },
  {
   "cell_type": "code",
   "execution_count": 96,
   "metadata": {},
   "outputs": [
    {
     "data": {
      "text/html": [
       "<style>#sk-container-id-7 {color: black;}#sk-container-id-7 pre{padding: 0;}#sk-container-id-7 div.sk-toggleable {background-color: white;}#sk-container-id-7 label.sk-toggleable__label {cursor: pointer;display: block;width: 100%;margin-bottom: 0;padding: 0.3em;box-sizing: border-box;text-align: center;}#sk-container-id-7 label.sk-toggleable__label-arrow:before {content: \"▸\";float: left;margin-right: 0.25em;color: #696969;}#sk-container-id-7 label.sk-toggleable__label-arrow:hover:before {color: black;}#sk-container-id-7 div.sk-estimator:hover label.sk-toggleable__label-arrow:before {color: black;}#sk-container-id-7 div.sk-toggleable__content {max-height: 0;max-width: 0;overflow: hidden;text-align: left;background-color: #f0f8ff;}#sk-container-id-7 div.sk-toggleable__content pre {margin: 0.2em;color: black;border-radius: 0.25em;background-color: #f0f8ff;}#sk-container-id-7 input.sk-toggleable__control:checked~div.sk-toggleable__content {max-height: 200px;max-width: 100%;overflow: auto;}#sk-container-id-7 input.sk-toggleable__control:checked~label.sk-toggleable__label-arrow:before {content: \"▾\";}#sk-container-id-7 div.sk-estimator input.sk-toggleable__control:checked~label.sk-toggleable__label {background-color: #d4ebff;}#sk-container-id-7 div.sk-label input.sk-toggleable__control:checked~label.sk-toggleable__label {background-color: #d4ebff;}#sk-container-id-7 input.sk-hidden--visually {border: 0;clip: rect(1px 1px 1px 1px);clip: rect(1px, 1px, 1px, 1px);height: 1px;margin: -1px;overflow: hidden;padding: 0;position: absolute;width: 1px;}#sk-container-id-7 div.sk-estimator {font-family: monospace;background-color: #f0f8ff;border: 1px dotted black;border-radius: 0.25em;box-sizing: border-box;margin-bottom: 0.5em;}#sk-container-id-7 div.sk-estimator:hover {background-color: #d4ebff;}#sk-container-id-7 div.sk-parallel-item::after {content: \"\";width: 100%;border-bottom: 1px solid gray;flex-grow: 1;}#sk-container-id-7 div.sk-label:hover label.sk-toggleable__label {background-color: #d4ebff;}#sk-container-id-7 div.sk-serial::before {content: \"\";position: absolute;border-left: 1px solid gray;box-sizing: border-box;top: 0;bottom: 0;left: 50%;z-index: 0;}#sk-container-id-7 div.sk-serial {display: flex;flex-direction: column;align-items: center;background-color: white;padding-right: 0.2em;padding-left: 0.2em;position: relative;}#sk-container-id-7 div.sk-item {position: relative;z-index: 1;}#sk-container-id-7 div.sk-parallel {display: flex;align-items: stretch;justify-content: center;background-color: white;position: relative;}#sk-container-id-7 div.sk-item::before, #sk-container-id-7 div.sk-parallel-item::before {content: \"\";position: absolute;border-left: 1px solid gray;box-sizing: border-box;top: 0;bottom: 0;left: 50%;z-index: -1;}#sk-container-id-7 div.sk-parallel-item {display: flex;flex-direction: column;z-index: 1;position: relative;background-color: white;}#sk-container-id-7 div.sk-parallel-item:first-child::after {align-self: flex-end;width: 50%;}#sk-container-id-7 div.sk-parallel-item:last-child::after {align-self: flex-start;width: 50%;}#sk-container-id-7 div.sk-parallel-item:only-child::after {width: 0;}#sk-container-id-7 div.sk-dashed-wrapped {border: 1px dashed gray;margin: 0 0.4em 0.5em 0.4em;box-sizing: border-box;padding-bottom: 0.4em;background-color: white;}#sk-container-id-7 div.sk-label label {font-family: monospace;font-weight: bold;display: inline-block;line-height: 1.2em;}#sk-container-id-7 div.sk-label-container {text-align: center;}#sk-container-id-7 div.sk-container {/* jupyter's `normalize.less` sets `[hidden] { display: none; }` but bootstrap.min.css set `[hidden] { display: none !important; }` so we also need the `!important` here to be able to override the default hidden behavior on the sphinx rendered scikit-learn.org. See: https://github.com/scikit-learn/scikit-learn/issues/21755 */display: inline-block !important;position: relative;}#sk-container-id-7 div.sk-text-repr-fallback {display: none;}</style><div id=\"sk-container-id-7\" class=\"sk-top-container\"><div class=\"sk-text-repr-fallback\"><pre>LogisticRegression(max_iter=1000, solver=&#x27;liblinear&#x27;)</pre><b>In a Jupyter environment, please rerun this cell to show the HTML representation or trust the notebook. <br />On GitHub, the HTML representation is unable to render, please try loading this page with nbviewer.org.</b></div><div class=\"sk-container\" hidden><div class=\"sk-item\"><div class=\"sk-estimator sk-toggleable\"><input class=\"sk-toggleable__control sk-hidden--visually\" id=\"sk-estimator-id-7\" type=\"checkbox\" checked><label for=\"sk-estimator-id-7\" class=\"sk-toggleable__label sk-toggleable__label-arrow\">LogisticRegression</label><div class=\"sk-toggleable__content\"><pre>LogisticRegression(max_iter=1000, solver=&#x27;liblinear&#x27;)</pre></div></div></div></div></div>"
      ],
      "text/plain": [
       "LogisticRegression(max_iter=1000, solver='liblinear')"
      ]
     },
     "execution_count": 96,
     "metadata": {},
     "output_type": "execute_result"
    }
   ],
   "source": [
    "# 모델 인스턴스 생성 및 학습\n",
    "logi_clf = LogisticRegression(max_iter = 1000, solver = 'liblinear')\n",
    "logi_clf.fit(X_train, y_train_5)"
   ]
  },
  {
   "cell_type": "code",
   "execution_count": 97,
   "metadata": {},
   "outputs": [
    {
     "data": {
      "text/plain": [
       "array([1])"
      ]
     },
     "execution_count": 97,
     "metadata": {},
     "output_type": "execute_result"
    }
   ],
   "source": [
    "logi_clf.predict([some_digit])"
   ]
  },
  {
   "cell_type": "code",
   "execution_count": 98,
   "metadata": {},
   "outputs": [
    {
     "name": "stdout",
     "output_type": "stream",
     "text": [
      "훈련 스코어 => 0.9783333333333334\n",
      "\n",
      " 테스트 스코어 => 0.9774\n"
     ]
    }
   ],
   "source": [
    "print(f'훈련 스코어 => {logi_clf.score(X_train, y_train_5)}\\n\\n 테스트 스코어 => {logi_clf.score(X_test, y_test_5)}')"
   ]
  },
  {
   "cell_type": "code",
   "execution_count": 99,
   "metadata": {},
   "outputs": [],
   "source": [
    "y_pre_5 = logi_clf.predict(X_test)"
   ]
  },
  {
   "cell_type": "code",
   "execution_count": 100,
   "metadata": {},
   "outputs": [
    {
     "name": "stdout",
     "output_type": "stream",
     "text": [
      "분류 정확도 => 0.9774\n",
      "\n",
      "분류 정밀도 => 0.8374439461883408\n",
      "\n",
      "분류 재현율 => 0.9021739130434783\n",
      "\n",
      "분류 f1점수 => 0.8686046511627907\n",
      "\n"
     ]
    }
   ],
   "source": [
    "print(f'분류 정확도 => {accuracy_score(y_pre_5, y_test_5)}\\n')\n",
    "print(f'분류 정밀도 => {precision_score(y_pre_5, y_test_5)}\\n')\n",
    "print(f'분류 재현율 => {recall_score(y_pre_5, y_test_5)}\\n')\n",
    "print(f'분류 f1점수 => {f1_score(y_pre_5, y_test_5)}\\n')"
   ]
  },
  {
   "cell_type": "code",
   "execution_count": 101,
   "metadata": {},
   "outputs": [
    {
     "data": {
      "text/plain": [
       "array([0])"
      ]
     },
     "execution_count": 101,
     "metadata": {},
     "output_type": "execute_result"
    }
   ],
   "source": [
    "img = cv2.imread('../DATA/img_five.png')\n",
    "img_gray = cv2.cvtColor(img, cv2.COLOR_BGR2GRAY)\n",
    "img_gray = np.invert(img_gray)\n",
    "logi_clf.predict(np.array(img_gray).reshape(1, -1))"
   ]
  },
  {
   "cell_type": "markdown",
   "metadata": {},
   "source": [
    "#### partial_fit 사용"
   ]
  },
  {
   "cell_type": "code",
   "execution_count": 90,
   "metadata": {},
   "outputs": [
    {
     "name": "stdout",
     "output_type": "stream",
     "text": [
      "[기본 SGD] 학습 점수 : 1.0, 테스트 점수 : 0.96\n",
      "\n",
      "[기본 SGD] 학습 점수 : 1.0, 테스트 점수 : 0.94\n",
      "\n",
      "[기본 SGD] 학습 점수 : 1.0, 테스트 점수 : 0.92\n",
      "\n",
      "[기본 SGD] 학습 점수 : 1.0, 테스트 점수 : 0.94\n",
      "\n",
      "[기본 SGD] 학습 점수 : 1.0, 테스트 점수 : 0.96\n",
      "\n",
      "[기본 SGD] 학습 점수 : 1.0, 테스트 점수 : 0.95\n",
      "\n",
      "[기본 SGD] 학습 점수 : 1.0, 테스트 점수 : 0.94\n",
      "\n",
      "[기본 SGD] 학습 점수 : 1.0, 테스트 점수 : 0.96\n",
      "\n",
      "[기본 SGD] 학습 점수 : 1.0, 테스트 점수 : 0.95\n",
      "\n",
      "[기본 SGD] 학습 점수 : 1.0, 테스트 점수 : 0.94\n",
      "\n",
      "[기본 SGD] 학습 점수 : 1.0, 테스트 점수 : 0.91\n",
      "\n",
      "[기본 SGD] 학습 점수 : 1.0, 테스트 점수 : 0.97\n",
      "\n",
      "[기본 SGD] 학습 점수 : 1.0, 테스트 점수 : 0.87\n",
      "\n",
      "[기본 SGD] 학습 점수 : 1.0, 테스트 점수 : 0.95\n",
      "\n",
      "[기본 SGD] 학습 점수 : 1.0, 테스트 점수 : 0.94\n",
      "\n",
      "[기본 SGD] 학습 점수 : 1.0, 테스트 점수 : 0.97\n",
      "\n",
      "[기본 SGD] 학습 점수 : 1.0, 테스트 점수 : 0.96\n",
      "\n",
      "[기본 SGD] 학습 점수 : 1.0, 테스트 점수 : 0.94\n",
      "\n",
      "[기본 SGD] 학습 점수 : 1.0, 테스트 점수 : 0.94\n",
      "\n",
      "[기본 SGD] 학습 점수 : 1.0, 테스트 점수 : 0.96\n",
      "\n",
      "[기본 SGD] 학습 점수 : 1.0, 테스트 점수 : 0.88\n",
      "\n",
      "[기본 SGD] 학습 점수 : 1.0, 테스트 점수 : 0.92\n",
      "\n",
      "[기본 SGD] 학습 점수 : 1.0, 테스트 점수 : 0.92\n",
      "\n",
      "[기본 SGD] 학습 점수 : 1.0, 테스트 점수 : 0.94\n",
      "\n",
      "[기본 SGD] 학습 점수 : 1.0, 테스트 점수 : 0.97\n",
      "\n",
      "[기본 SGD] 학습 점수 : 1.0, 테스트 점수 : 0.85\n",
      "\n",
      "[기본 SGD] 학습 점수 : 1.0, 테스트 점수 : 0.91\n",
      "\n",
      "[기본 SGD] 학습 점수 : 1.0, 테스트 점수 : 0.95\n",
      "\n",
      "[기본 SGD] 학습 점수 : 1.0, 테스트 점수 : 0.94\n",
      "\n",
      "[기본 SGD] 학습 점수 : 1.0, 테스트 점수 : 0.88\n",
      "\n",
      "[기본 SGD] 학습 점수 : 1.0, 테스트 점수 : 1.0\n",
      "\n",
      "[기본 SGD] 학습 점수 : 1.0, 테스트 점수 : 0.91\n",
      "\n",
      "[기본 SGD] 학습 점수 : 1.0, 테스트 점수 : 0.97\n",
      "\n",
      "[기본 SGD] 학습 점수 : 1.0, 테스트 점수 : 0.96\n",
      "\n",
      "[기본 SGD] 학습 점수 : 1.0, 테스트 점수 : 0.91\n",
      "\n",
      "[기본 SGD] 학습 점수 : 1.0, 테스트 점수 : 0.92\n",
      "\n",
      "[기본 SGD] 학습 점수 : 1.0, 테스트 점수 : 0.96\n",
      "\n",
      "[기본 SGD] 학습 점수 : 1.0, 테스트 점수 : 0.94\n",
      "\n",
      "[기본 SGD] 학습 점수 : 1.0, 테스트 점수 : 0.96\n",
      "\n",
      "[기본 SGD] 학습 점수 : 1.0, 테스트 점수 : 0.88\n",
      "\n",
      "[기본 SGD] 학습 점수 : 1.0, 테스트 점수 : 0.89\n",
      "\n",
      "[기본 SGD] 학습 점수 : 1.0, 테스트 점수 : 0.93\n",
      "\n",
      "[기본 SGD] 학습 점수 : 1.0, 테스트 점수 : 0.9\n",
      "\n",
      "[기본 SGD] 학습 점수 : 1.0, 테스트 점수 : 0.88\n",
      "\n",
      "[기본 SGD] 학습 점수 : 1.0, 테스트 점수 : 0.98\n",
      "\n",
      "[기본 SGD] 학습 점수 : 1.0, 테스트 점수 : 0.95\n",
      "\n",
      "[기본 SGD] 학습 점수 : 1.0, 테스트 점수 : 0.98\n",
      "\n",
      "[기본 SGD] 학습 점수 : 1.0, 테스트 점수 : 0.95\n",
      "\n",
      "[기본 SGD] 학습 점수 : 1.0, 테스트 점수 : 0.91\n",
      "\n",
      "[기본 SGD] 학습 점수 : 1.0, 테스트 점수 : 0.94\n",
      "\n",
      "[기본 SGD] 학습 점수 : 1.0, 테스트 점수 : 0.94\n",
      "\n",
      "[기본 SGD] 학습 점수 : 1.0, 테스트 점수 : 0.93\n",
      "\n",
      "[기본 SGD] 학습 점수 : 1.0, 테스트 점수 : 0.96\n",
      "\n",
      "[기본 SGD] 학습 점수 : 1.0, 테스트 점수 : 0.99\n",
      "\n",
      "[기본 SGD] 학습 점수 : 1.0, 테스트 점수 : 0.93\n",
      "\n",
      "[기본 SGD] 학습 점수 : 1.0, 테스트 점수 : 0.97\n",
      "\n",
      "[기본 SGD] 학습 점수 : 1.0, 테스트 점수 : 0.93\n",
      "\n",
      "[기본 SGD] 학습 점수 : 1.0, 테스트 점수 : 0.97\n",
      "\n",
      "[기본 SGD] 학습 점수 : 1.0, 테스트 점수 : 0.94\n",
      "\n",
      "[기본 SGD] 학습 점수 : 1.0, 테스트 점수 : 0.89\n",
      "\n",
      "[기본 SGD] 학습 점수 : 1.0, 테스트 점수 : 0.94\n",
      "\n",
      "[기본 SGD] 학습 점수 : 1.0, 테스트 점수 : 0.96\n",
      "\n",
      "[기본 SGD] 학습 점수 : 1.0, 테스트 점수 : 0.98\n",
      "\n",
      "[기본 SGD] 학습 점수 : 1.0, 테스트 점수 : 0.94\n",
      "\n",
      "[기본 SGD] 학습 점수 : 1.0, 테스트 점수 : 0.97\n",
      "\n",
      "[기본 SGD] 학습 점수 : 1.0, 테스트 점수 : 0.91\n",
      "\n",
      "[기본 SGD] 학습 점수 : 1.0, 테스트 점수 : 0.97\n",
      "\n",
      "[기본 SGD] 학습 점수 : 1.0, 테스트 점수 : 0.97\n",
      "\n",
      "[기본 SGD] 학습 점수 : 1.0, 테스트 점수 : 0.97\n",
      "\n",
      "[기본 SGD] 학습 점수 : 1.0, 테스트 점수 : 0.95\n",
      "\n",
      "[기본 SGD] 학습 점수 : 1.0, 테스트 점수 : 1.0\n",
      "\n",
      "[기본 SGD] 학습 점수 : 1.0, 테스트 점수 : 0.99\n",
      "\n",
      "[기본 SGD] 학습 점수 : 1.0, 테스트 점수 : 0.96\n",
      "\n",
      "[기본 SGD] 학습 점수 : 1.0, 테스트 점수 : 0.97\n",
      "\n",
      "[기본 SGD] 학습 점수 : 1.0, 테스트 점수 : 0.88\n",
      "\n",
      "[기본 SGD] 학습 점수 : 1.0, 테스트 점수 : 0.92\n",
      "\n",
      "[기본 SGD] 학습 점수 : 1.0, 테스트 점수 : 0.97\n",
      "\n",
      "[기본 SGD] 학습 점수 : 1.0, 테스트 점수 : 0.97\n",
      "\n",
      "[기본 SGD] 학습 점수 : 1.0, 테스트 점수 : 0.92\n",
      "\n",
      "[기본 SGD] 학습 점수 : 1.0, 테스트 점수 : 0.99\n",
      "\n",
      "[기본 SGD] 학습 점수 : 1.0, 테스트 점수 : 0.99\n",
      "\n",
      "[기본 SGD] 학습 점수 : 1.0, 테스트 점수 : 0.95\n",
      "\n",
      "[기본 SGD] 학습 점수 : 1.0, 테스트 점수 : 0.95\n",
      "\n",
      "[기본 SGD] 학습 점수 : 1.0, 테스트 점수 : 0.95\n",
      "\n",
      "[기본 SGD] 학습 점수 : 1.0, 테스트 점수 : 0.94\n",
      "\n",
      "[기본 SGD] 학습 점수 : 1.0, 테스트 점수 : 0.97\n",
      "\n",
      "[기본 SGD] 학습 점수 : 1.0, 테스트 점수 : 0.93\n",
      "\n",
      "[기본 SGD] 학습 점수 : 1.0, 테스트 점수 : 0.99\n",
      "\n",
      "[기본 SGD] 학습 점수 : 1.0, 테스트 점수 : 1.0\n",
      "\n",
      "[기본 SGD] 학습 점수 : 1.0, 테스트 점수 : 0.98\n",
      "\n",
      "[기본 SGD] 학습 점수 : 1.0, 테스트 점수 : 0.95\n",
      "\n",
      "[기본 SGD] 학습 점수 : 1.0, 테스트 점수 : 0.95\n",
      "\n",
      "[기본 SGD] 학습 점수 : 1.0, 테스트 점수 : 0.91\n",
      "\n",
      "[기본 SGD] 학습 점수 : 1.0, 테스트 점수 : 0.99\n",
      "\n",
      "[기본 SGD] 학습 점수 : 1.0, 테스트 점수 : 0.93\n",
      "\n",
      "[기본 SGD] 학습 점수 : 1.0, 테스트 점수 : 0.99\n",
      "\n",
      "[기본 SGD] 학습 점수 : 1.0, 테스트 점수 : 0.93\n",
      "\n",
      "[기본 SGD] 학습 점수 : 1.0, 테스트 점수 : 0.91\n",
      "\n",
      "[기본 SGD] 학습 점수 : 1.0, 테스트 점수 : 0.96\n",
      "\n",
      "[기본 SGD] 학습 점수 : 1.0, 테스트 점수 : 0.97\n",
      "\n"
     ]
    }
   ],
   "source": [
    "logi_clf = LogisticRegression(max_iter = 1000, solver = 'liblinear', warm_start = True)\n",
    "train_score_list2, test_score_list2 = [], []\n",
    "for n in range(1, 101):\n",
    "    logi_clf.fit(X_train[600*(n-1) : 600*n], y_train_5[600*(n-1) : 600*n])\n",
    "    train_score2 = logi_clf.score(X_train[600*(n-1) : 600*n], y_train_5[600*(n-1) : 600*n])\n",
    "    test_score2 = logi_clf.score(X_test[100*(n-1) : 100*n], y_test_5[100*(n-1) : 100*n])\n",
    "    print(f'[기본 SGD] 학습 점수 : {train_score2}, 테스트 점수 : {test_score2}\\n')\n",
    "    train_score_list2.append(train_score2)\n",
    "    test_score_list2.append(test_score2)"
   ]
  },
  {
   "cell_type": "code",
   "execution_count": 91,
   "metadata": {},
   "outputs": [
    {
     "data": {
      "image/png": "[encoded data removed]",
      "text/plain": [
       "<Figure size 1200x500 with 1 Axes>"
      ]
     },
     "metadata": {},
     "output_type": "display_data"
    }
   ],
   "source": [
    "# 시각화\n",
    "import matplotlib.pyplot as plt\n",
    "\n",
    "plt.figure(figsize = (12, 5))\n",
    "plt.plot(train_score_list2, 'b-', label = 'Train')\n",
    "plt.plot(test_score_list2, 'r-', label = 'Test')\n",
    "plt.legend()\n",
    "plt.show()"
   ]
  },
  {
   "cell_type": "code",
   "execution_count": 92,
   "metadata": {},
   "outputs": [
    {
     "name": "stdout",
     "output_type": "stream",
     "text": [
      "분류 정확도 => 0.9244\n",
      "\n",
      "분류 정밀도 => 0.6334080717488789\n",
      "\n",
      "분류 재현율 => 0.56841046277666\n",
      "\n",
      "분류 f1점수 => 0.59915164369035\n",
      "\n"
     ]
    }
   ],
   "source": [
    "y_pre_5 = logi_clf.predict(X_test)\n",
    "print(f'분류 정확도 => {accuracy_score(y_pre_5, y_test_5)}\\n')\n",
    "print(f'분류 정밀도 => {precision_score(y_pre_5, y_test_5)}\\n')\n",
    "print(f'분류 재현율 => {recall_score(y_pre_5, y_test_5)}\\n')\n",
    "print(f'분류 f1점수 => {f1_score(y_pre_5, y_test_5)}\\n')"
   ]
  },
  {
   "cell_type": "code",
   "execution_count": 93,
   "metadata": {},
   "outputs": [
    {
     "data": {
      "text/plain": [
       "array([1])"
      ]
     },
     "execution_count": 93,
     "metadata": {},
     "output_type": "execute_result"
    }
   ],
   "source": [
    "img = cv2.imread('../DATA/img_five.png')\n",
    "img_gray = cv2.cvtColor(img, cv2.COLOR_BGR2GRAY)\n",
    "img_gray = np.invert(img_gray)\n",
    "logi_clf.predict(np.array(img_gray).reshape(1, -1))"
   ]
  }
 ],
 "metadata": {
  "kernelspec": {
   "display_name": "EXAM_MML",
   "language": "python",
   "name": "python3"
  },
  "language_info": {
   "codemirror_mode": {
    "name": "ipython",
    "version": 3
   },
   "file_extension": ".py",
   "mimetype": "text/x-python",
   "name": "python",
   "nbconvert_exporter": "python",
   "pygments_lexer": "ipython3",
   "version": "3.9.18"
  }
 },
 "nbformat": 4,
 "nbformat_minor": 2
}
