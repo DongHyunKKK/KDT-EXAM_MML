{
 "cells": [
  {
   "cell_type": "markdown",
   "metadata": {},
   "source": [
    "### 표본추출/샘플링  \n",
    "- 전체 데이터에서 일부 데이터를 추출\n",
    "- pandas.DataFrame.sample() 메서드\n",
    "- 복원추출 : \n",
    "- 비복원추출 :"
   ]
  },
  {
   "cell_type": "code",
   "execution_count": 1,
   "metadata": {},
   "outputs": [],
   "source": [
    "import pandas as pd"
   ]
  },
  {
   "cell_type": "code",
   "execution_count": 2,
   "metadata": {},
   "outputs": [
    {
     "data": {
      "text/html": [
       "<div>\n",
       "<style scoped>\n",
       "    .dataframe tbody tr th:only-of-type {\n",
       "        vertical-align: middle;\n",
       "    }\n",
       "\n",
       "    .dataframe tbody tr th {\n",
       "        vertical-align: top;\n",
       "    }\n",
       "\n",
       "    .dataframe thead th {\n",
       "        text-align: right;\n",
       "    }\n",
       "</style>\n",
       "<table border=\"1\" class=\"dataframe\">\n",
       "  <thead>\n",
       "    <tr style=\"text-align: right;\">\n",
       "      <th></th>\n",
       "      <th>kor</th>\n",
       "      <th>math</th>\n",
       "      <th>eng</th>\n",
       "    </tr>\n",
       "  </thead>\n",
       "  <tbody>\n",
       "    <tr>\n",
       "      <th>0</th>\n",
       "      <td>10</td>\n",
       "      <td>11</td>\n",
       "      <td>111</td>\n",
       "    </tr>\n",
       "    <tr>\n",
       "      <th>1</th>\n",
       "      <td>20</td>\n",
       "      <td>22</td>\n",
       "      <td>222</td>\n",
       "    </tr>\n",
       "    <tr>\n",
       "      <th>2</th>\n",
       "      <td>30</td>\n",
       "      <td>33</td>\n",
       "      <td>333</td>\n",
       "    </tr>\n",
       "  </tbody>\n",
       "</table>\n",
       "</div>"
      ],
      "text/plain": [
       "   kor  math  eng\n",
       "0   10    11  111\n",
       "1   20    22  222\n",
       "2   30    33  333"
      ]
     },
     "execution_count": 2,
     "metadata": {},
     "output_type": "execute_result"
    }
   ],
   "source": [
    "# 임의의 데이터 생성\n",
    "dataDF = pd.DataFrame({'kor' : [10, 20, 30], 'math' : [11, 22, 33], 'eng' : [111, 222, 333]})\n",
    "dataDF\n"
   ]
  },
  {
   "cell_type": "code",
   "execution_count": 9,
   "metadata": {},
   "outputs": [
    {
     "name": "stdout",
     "output_type": "stream",
     "text": [
      "[0번]\n",
      "   kor  math  eng\n",
      "2   30    33  333\n",
      "1   20    22  222\n",
      "0   10    11  111\n",
      "[1번]\n",
      "   kor  math  eng\n",
      "2   30    33  333\n",
      "0   10    11  111\n",
      "1   20    22  222\n",
      "[2번]\n",
      "   kor  math  eng\n",
      "0   10    11  111\n",
      "2   30    33  333\n",
      "1   20    22  222\n",
      "[3번]\n",
      "   kor  math  eng\n",
      "1   20    22  222\n",
      "0   10    11  111\n",
      "2   30    33  333\n",
      "[4번]\n",
      "   kor  math  eng\n",
      "0   10    11  111\n",
      "2   30    33  333\n",
      "1   20    22  222\n"
     ]
    }
   ],
   "source": [
    "# 1개의 샘플/표본 데이터 추출 => [기본] 비복원 - 전체 데이터 수 초과 불가\n",
    "# 추출 기준 축(axis)을 설정\n",
    "for cnt in range(5):\n",
    "    print(f'[{cnt}번]')\n",
    "    #print(dataDF.sample(n = 3, axis = 'columns'))\n",
    "    print(dataDF.sample(n = 3))"
   ]
  },
  {
   "cell_type": "code",
   "execution_count": 8,
   "metadata": {},
   "outputs": [
    {
     "name": "stdout",
     "output_type": "stream",
     "text": [
      "[0번]\n",
      "   eng  eng  kor  eng  eng\n",
      "0  111  111   10  111  111\n",
      "1  222  222   20  222  222\n",
      "2  333  333   30  333  333\n",
      "[1번]\n",
      "   kor  math  eng  eng  kor\n",
      "0   10    11  111  111   10\n",
      "1   20    22  222  222   20\n",
      "2   30    33  333  333   30\n",
      "[2번]\n",
      "   kor  eng  kor  math  math\n",
      "0   10  111   10    11    11\n",
      "1   20  222   20    22    22\n",
      "2   30  333   30    33    33\n",
      "[3번]\n",
      "   eng  math  kor  kor  kor\n",
      "0  111    11   10   10   10\n",
      "1  222    22   20   20   20\n",
      "2  333    33   30   30   30\n",
      "[4번]\n",
      "   kor  eng  kor  eng  math\n",
      "0   10  111   10  111    11\n",
      "1   20  222   20  222    22\n",
      "2   30  333   30  333    33\n"
     ]
    }
   ],
   "source": [
    "# 1개의 샘플/표본 데이터 추출 => [설정] 복원 - replace 매개변수 True 설정\n",
    "# 추출 기준 축(axis)을 설정\n",
    "for cnt in range(5):\n",
    "    print(f'[{cnt}번]')\n",
    "    print(dataDF.sample(n = 5, axis = 'columns', replace = True))"
   ]
  }
 ],
 "metadata": {
  "kernelspec": {
   "display_name": "EXAM_MML",
   "language": "python",
   "name": "python3"
  },
  "language_info": {
   "codemirror_mode": {
    "name": "ipython",
    "version": 3
   },
   "file_extension": ".py",
   "mimetype": "text/x-python",
   "name": "python",
   "nbconvert_exporter": "python",
   "pygments_lexer": "ipython3",
   "version": "3.9.18"
  }
 },
 "nbformat": 4,
 "nbformat_minor": 2
}
