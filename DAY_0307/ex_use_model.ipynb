{
 "cells": [
  {
   "cell_type": "markdown",
   "metadata": {},
   "source": [
    "## 모델을 활용한 서비스 제공 <hr>"
   ]
  },
  {
   "cell_type": "code",
   "execution_count": 20,
   "metadata": {},
   "outputs": [],
   "source": [
    "# 모듈 로딩\n",
    "from joblib import load"
   ]
  },
  {
   "cell_type": "code",
   "execution_count": 21,
   "metadata": {},
   "outputs": [],
   "source": [
    "# 전역 변수\n",
    "model_file = '../model/iris_dt.pkl'"
   ]
  },
  {
   "cell_type": "code",
   "execution_count": 22,
   "metadata": {},
   "outputs": [
    {
     "name": "stdout",
     "output_type": "stream",
     "text": [
      "[10.0, 20.0, 30.0, 40.0]\n",
      "해당 꽃은 ['virginica']일 확률은 100.0% 입니다.\n"
     ]
    },
    {
     "name": "stderr",
     "output_type": "stream",
     "text": [
      "c:\\Users\\user\\.conda\\envs\\EXAM_MML\\lib\\site-packages\\sklearn\\base.py:464: UserWarning: X does not have valid feature names, but DecisionTreeClassifier was fitted with feature names\n",
      "  warnings.warn(\n",
      "c:\\Users\\user\\.conda\\envs\\EXAM_MML\\lib\\site-packages\\sklearn\\base.py:464: UserWarning: X does not have valid feature names, but DecisionTreeClassifier was fitted with feature names\n",
      "  warnings.warn(\n"
     ]
    }
   ],
   "source": [
    "import numpy as np\n",
    "# 모델 로딩\n",
    "model = load(model_file)\n",
    "\n",
    "# 로딩된 모델 확인\n",
    "model.classes_\n",
    "\n",
    "# 붓꽃 정보 입력 => 4개 피처\n",
    "data = input('붓꽃의 꽃받침 길이, 꽃받침 너비, 꽃잎 길이, 꽃잎 너비 입력 : ')\n",
    "if len(data):\n",
    "    data_list = list(map(float, data.split(',')))  # 넣을 데이터에 컬럼명이 없으면 경고 메세지 뜬다.\n",
    "    print(data_list)\n",
    "\n",
    "    # 입력된 정보에 해당하는 품종 알려주기\n",
    "    # 모델의 predict(2D)\n",
    "    pre_iris = model.predict([data_list])\n",
    "    proba = np.round(np.max(model.predict_proba([data_list])[0]) * 100, 1)\n",
    "    print(f'해당 꽃은 {pre_iris}일 확률은 {proba}% 입니다.')\n",
    "else:\n",
    "    print('입력된 정보가 없습니다.')"
   ]
  },
  {
   "cell_type": "code",
   "execution_count": 45,
   "metadata": {},
   "outputs": [
    {
     "name": "stdout",
     "output_type": "stream",
     "text": [
      "   sepal_length  sepal_width  petal_length  petal_width\n",
      "0            10           20            30           40\n",
      "\n",
      "   sepal_length  sepal_width  petal_length  petal_width\n",
      "0            10           20            30           40\n"
     ]
    }
   ],
   "source": [
    "import pandas as pd\n",
    "\n",
    "# 아래 두 결과가 같다.\n",
    "c = ['sepal_length', 'sepal_width', 'petal_length', 'petal_width']\n",
    "d = [10, 20, 30, 40]\n",
    "\n",
    "df = pd.DataFrame(dict(zip(c, d)), index = [0])\n",
    "print(df)\n",
    "\n",
    "print()\n",
    "d = [[10], [20], [30], [40]]  # 인덱스 설정 안하면 딕셔너리의 값을 리스트로 주어야 한다.\n",
    "df = pd.DataFrame(dict(zip(c, d)))\n",
    "print(df)"
   ]
  },
  {
   "cell_type": "code",
   "execution_count": 43,
   "metadata": {},
   "outputs": [
    {
     "name": "stdout",
     "output_type": "stream",
     "text": [
      "   sepal_length  sepal_width  petal_length  petal_width\n",
      "0          10.0         20.0          30.0         40.0\n",
      "해당 꽃은 ['virginica']일 확률은 100.0% 입니다.\n"
     ]
    }
   ],
   "source": [
    "import pandas as pd\n",
    "import numpy as np\n",
    "# 모델 로딩\n",
    "model = load(model_file)\n",
    "\n",
    "# 로딩된 모델 확인\n",
    "model.classes_\n",
    "\n",
    "# 붓꽃 정보 입력 => 4개 피처\n",
    "data = input('붓꽃의 꽃받침 길이, 꽃받침 너비, 꽃잎 길이, 꽃잎 너비 입력 : ')\n",
    "if len(data):\n",
    "    data_list = list(map(float, data.split(',')))  # 넣을 데이터에 컬럼명이 없으면 경고 메세지 뜬다.\n",
    "    feature_name = ['sepal_length', 'sepal_width', 'petal_length', 'petal_width']\n",
    "    df = pd.DataFrame(dict(zip(feature_name, data_list)), index = [0])\n",
    "    print(df)\n",
    "    \n",
    "    # 입력된 정보에 해당하는 품종 알려주기\n",
    "    # 모델의 predict(2D)\n",
    "    pre_iris = model.predict(df)\n",
    "    proba = np.round(np.max(model.predict_proba(df)[0]) * 100, 1)\n",
    "    print(f'해당 꽃은 {pre_iris}일 확률은 {proba}% 입니다.')\n",
    "else:\n",
    "    print('입력된 정보가 없습니다.')"
   ]
  },
  {
   "cell_type": "code",
   "execution_count": null,
   "metadata": {},
   "outputs": [],
   "source": []
  }
 ],
 "metadata": {
  "kernelspec": {
   "display_name": "EXAM_MML",
   "language": "python",
   "name": "python3"
  },
  "language_info": {
   "codemirror_mode": {
    "name": "ipython",
    "version": 3
   },
   "file_extension": ".py",
   "mimetype": "text/x-python",
   "name": "python",
   "nbconvert_exporter": "python",
   "pygments_lexer": "ipython3",
   "version": "3.9.18"
  }
 },
 "nbformat": 4,
 "nbformat_minor": 2
}
